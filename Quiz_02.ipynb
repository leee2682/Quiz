{
  "nbformat": 4,
  "nbformat_minor": 0,
  "metadata": {
    "colab": {
      "name": "Quiz 02.ipynb",
      "provenance": [],
      "authorship_tag": "ABX9TyMqPZk1JiUb/Vm2Hgcem0qM",
      "include_colab_link": true
    },
    "kernelspec": {
      "name": "python3",
      "display_name": "Python 3"
    }
  },
  "cells": [
    {
      "cell_type": "markdown",
      "metadata": {
        "id": "view-in-github",
        "colab_type": "text"
      },
      "source": [
        "<a href=\"https://colab.research.google.com/github/leee2682/Quiz/blob/main/Quiz_02.ipynb\" target=\"_parent\"><img src=\"https://colab.research.google.com/assets/colab-badge.svg\" alt=\"Open In Colab\"/></a>"
      ]
    },
    {
      "cell_type": "code",
      "metadata": {
        "colab": {
          "base_uri": "https://localhost:8080/"
        },
        "id": "LgushW6hx7mM",
        "outputId": "1ae2ef2e-6372-4521-e439-5265e4f9db1f"
      },
      "source": [
        "################# 문제 27 #################\r\n",
        "\r\n",
        "key = input().split()\r\n",
        "value = map(int, input().split())\r\n",
        "\r\n",
        "print(dict(zip(key, value)))"
      ],
      "execution_count": null,
      "outputs": [
        {
          "output_type": "stream",
          "text": [
            "asdf asd as\n",
            "123 12 1\n",
            "{'asdf': 123, 'asd': 12, 'as': 1}\n"
          ],
          "name": "stdout"
        }
      ]
    },
    {
      "cell_type": "code",
      "metadata": {
        "colab": {
          "base_uri": "https://localhost:8080/"
        },
        "id": "zh4jrLyG6Pkf",
        "outputId": "0c43c2d7-a1c0-46c3-a126-b4f5a90b44e0"
      },
      "source": [
        "# 숫자로 입력 받아서 처리\r\n",
        "\r\n",
        "a = map(int,input().split())\r\n",
        "\r\n",
        "print(a)"
      ],
      "execution_count": null,
      "outputs": [
        {
          "output_type": "stream",
          "text": [
            "70 100\n",
            "<map object at 0x7f59f78b61d0>\n"
          ],
          "name": "stdout"
        }
      ]
    },
    {
      "cell_type": "code",
      "metadata": {
        "colab": {
          "base_uri": "https://localhost:8080/"
        },
        "id": "VUiqTHMx6Psq",
        "outputId": "3bc98474-1e42-4c12-aaba-94aadc011327"
      },
      "source": [
        "a = [1,2,3,4]\r\n",
        "b = [100,200,300,400]\r\n",
        "\r\n",
        "print(list(zip(a,b)))"
      ],
      "execution_count": null,
      "outputs": [
        {
          "output_type": "stream",
          "text": [
            "[(1, 100), (2, 200), (3, 300), (4, 400)]\n"
          ],
          "name": "stdout"
        }
      ]
    },
    {
      "cell_type": "code",
      "metadata": {
        "colab": {
          "base_uri": "https://localhost:8080/"
        },
        "id": "jkq9Ulf6yQdY",
        "outputId": "c08acca9-4e7e-45bd-b6e4-6794b5b3be3a"
      },
      "source": [
        "################# 문제 28 #################\r\n",
        "\r\n",
        "txt = input()\r\n",
        "\r\n",
        "for i in range(len(txt) - 1):\r\n",
        "\r\n",
        "  print(txt[i], txt[i+1], sep='')"
      ],
      "execution_count": null,
      "outputs": [
        {
          "output_type": "stream",
          "text": [
            "Python\n",
            "Py\n",
            "yt\n",
            "th\n",
            "ho\n",
            "on\n"
          ],
          "name": "stdout"
        }
      ]
    },
    {
      "cell_type": "code",
      "metadata": {
        "colab": {
          "base_uri": "https://localhost:8080/"
        },
        "id": "Ibl9VBeR95Q6",
        "outputId": "a079979a-1569-4461-dbd9-c45a57b55ca6"
      },
      "source": [
        "################# 문제 29 #################\r\n",
        "\r\n",
        "Eng = input()\r\n",
        "\r\n",
        "if Eng.isupper():\r\n",
        "    print(\"Yes\")\r\n",
        "else:\r\n",
        "    print(\"No\")"
      ],
      "execution_count": null,
      "outputs": [
        {
          "output_type": "stream",
          "text": [
            "f\n",
            "No\n"
          ],
          "name": "stdout"
        }
      ]
    },
    {
      "cell_type": "code",
      "metadata": {
        "id": "7IolZI-FHNA2"
      },
      "source": [
        "# isupper 대문자인지 확인\r\n",
        "# islower 소문자인지 확인\r\n",
        "# isdigit 숫자인지 확인\r\n",
        "\r\n",
        "# ord ascll 코드 값을 확인 65 A   90 Z\r\n",
        "# chr"
      ],
      "execution_count": null,
      "outputs": []
    },
    {
      "cell_type": "code",
      "metadata": {
        "colab": {
          "base_uri": "https://localhost:8080/"
        },
        "id": "rrB_EAfjC4GU",
        "outputId": "d965c1d2-77a1-4c19-df09-6d771207ec66"
      },
      "source": [
        "# ord\r\n",
        "\r\n",
        "txt = input()\r\n",
        "\r\n",
        "if ord(txt) >= 65 and ord(txt) <= 90:\r\n",
        "  print(\"Yes\")\r\n",
        "else:\r\n",
        "  print(\"No\")"
      ],
      "execution_count": null,
      "outputs": [
        {
          "output_type": "stream",
          "text": [
            "Z\n",
            "Yes\n"
          ],
          "name": "stdout"
        }
      ]
    },
    {
      "cell_type": "code",
      "metadata": {
        "id": "1AkEkzw8FiJi"
      },
      "source": [
        "# cha\r\n",
        "\r\n",
        "txt = input()\r\n",
        "\r\n",
        "if txt >= chr(65) and txt <= chr(90):\r\n",
        "  print(\"Yes\")\r\n",
        "else:\r\n",
        "  print(\"No\")"
      ],
      "execution_count": null,
      "outputs": []
    },
    {
      "cell_type": "code",
      "metadata": {
        "colab": {
          "base_uri": "https://localhost:8080/"
        },
        "id": "CFABpTkgHbCV",
        "outputId": "1ae349b0-726d-40fc-8f31-831545070533"
      },
      "source": [
        "################# 문제 30 #################\r\n",
        "\r\n",
        "# index = 값이 없으면 오류 출력\r\n",
        "# find = 값이 없으면 -1 출력\r\n",
        "\r\n",
        "a = input()\r\n",
        "b = input()\r\n",
        "a.index(b)"
      ],
      "execution_count": null,
      "outputs": [
        {
          "output_type": "stream",
          "text": [
            "pineapple is yummy\n",
            "apple\n"
          ],
          "name": "stdout"
        },
        {
          "output_type": "execute_result",
          "data": {
            "text/plain": [
              "4"
            ]
          },
          "metadata": {
            "tags": []
          },
          "execution_count": 102
        }
      ]
    },
    {
      "cell_type": "code",
      "metadata": {
        "id": "DTYFmikhM1N-"
      },
      "source": [
        "################# 문제 31 #################\r\n",
        "# 다음 리스트의 내장함수의 시간 복잡도가 O(1)이 아닌것은? 3\r\n",
        "# O(1) = 한번에 떨어지는 값\r\n",
        "\r\n",
        "# 1) l(i)\r\n",
        "# 2) l.append(5)\r\n",
        "# 3) l[a:b]\r\n",
        "# 4) l.pop()\r\n",
        "# 5) l.clear()"
      ],
      "execution_count": null,
      "outputs": []
    },
    {
      "cell_type": "code",
      "metadata": {
        "colab": {
          "base_uri": "https://localhost:8080/"
        },
        "id": "ctB1yokKQL1X",
        "outputId": "31e802af-52ec-47ce-a3c7-4e3d42dbac36"
      },
      "source": [
        "################# 문제 32 #################\r\n",
        "# 문자열을 입력 받으면 단어의 갯수를 출력하는 프로그램\r\n",
        "\r\n",
        "a = input().split()\r\n",
        "\r\n",
        "print(len(a))"
      ],
      "execution_count": null,
      "outputs": [
        {
          "output_type": "stream",
          "text": [
            "저 넓은 세상을 네 눈앞에 그려봐 네 진심을 느껴봐\n",
            "9\n"
          ],
          "name": "stdout"
        }
      ]
    },
    {
      "cell_type": "code",
      "metadata": {
        "colab": {
          "base_uri": "https://localhost:8080/"
        },
        "id": "U7fa_LruQmiT",
        "outputId": "74a8e87f-011d-4300-f7ab-fbab5edb82dc"
      },
      "source": [
        "################# 문제 32-2 #################\r\n",
        "\r\n",
        "txt = input().strip()\r\n",
        "a = list(txt.split())\r\n",
        "\r\n",
        "print(len(a))"
      ],
      "execution_count": null,
      "outputs": [
        {
          "output_type": "stream",
          "text": [
            "저 넓은 세상을 네 눈앞에 그려봐 네 진심을 느껴봐\n",
            "9\n"
          ],
          "name": "stdout"
        }
      ]
    },
    {
      "cell_type": "code",
      "metadata": {
        "colab": {
          "base_uri": "https://localhost:8080/"
        },
        "id": "hOctPbDASjQS",
        "outputId": "be72105d-e59c-4383-a291-7ea206e5578f"
      },
      "source": [
        "################# 문제 33 #################\r\n",
        "# 한 줄에 여러개의 숫자가 입력되면, 역순으로 그 숫자들을 하나씩 출력하는 프로그램을 작성하시오.\r\n",
        "\r\n",
        "txt = input()                             # 1 2 3 4 5\r\n",
        "txt2 = list(txt.split())                  # ['1', '2', '3', '4', '5']\r\n",
        "txt3 = [int(i) for i in txt2]             # [1, 2, 3, 4, 5]\r\n",
        "\r\n",
        "for i in range(len(txt3)-1, -1, -1):\r\n",
        "  print(txt3[i], end = ' ')"
      ],
      "execution_count": null,
      "outputs": [
        {
          "output_type": "stream",
          "text": [
            "1 2 3 4 5\n",
            "5 4 3 2 1 "
          ],
          "name": "stdout"
        }
      ]
    },
    {
      "cell_type": "code",
      "metadata": {
        "colab": {
          "base_uri": "https://localhost:8080/"
        },
        "id": "3Bp6USlfUcmv",
        "outputId": "b10050b7-c981-417e-ec93-9148e3d1f2ec"
      },
      "source": [
        "# pop()\r\n",
        "\r\n",
        "a = list(input().split())\r\n",
        "\r\n",
        "for i in range(0, len(a)):\r\n",
        "  print(a.pop(), end = ' ')"
      ],
      "execution_count": null,
      "outputs": [
        {
          "output_type": "stream",
          "text": [
            "1 2 3 4 5\n",
            "5 4 3 2 1 "
          ],
          "name": "stdout"
        }
      ]
    },
    {
      "cell_type": "code",
      "metadata": {
        "colab": {
          "base_uri": "https://localhost:8080/"
        },
        "id": "euAWufDycMEj",
        "outputId": "3122f9d9-af79-4026-8b4e-95d93290194e"
      },
      "source": [
        "################# 문제 34 #################\r\n",
        "# 키가 주어지면 순서대로 섰는지 확인하는 프로그램\r\n",
        "\r\n",
        "num1 = input()                          # 1 2 3 5 4\r\n",
        "num2 = num1.strip().split()             # ['1', '2', '3', '5', '4']\r\n",
        "num3 = [int(i) for i in num2]           # [1, 2, 3, 5, 4]\r\n",
        "num4 = sorted(num3)                     # [1, 2, 3, 4, 5]\r\n",
        "\r\n",
        "print(num1)\r\n",
        "print(num2)\r\n",
        "print(num3)\r\n",
        "print(num4)\r\n",
        "\r\n",
        "if num3 != num4:\r\n",
        "  print(\"NO\")\r\n",
        "else:\r\n",
        "  print(\"YES\")"
      ],
      "execution_count": null,
      "outputs": [
        {
          "output_type": "stream",
          "text": [
            "1 2 3 5 4\n",
            "1 2 3 5 4\n",
            "['1', '2', '3', '5', '4']\n",
            "[1, 2, 3, 5, 4]\n",
            "[1, 2, 3, 4, 5]\n",
            "NO\n"
          ],
          "name": "stdout"
        }
      ]
    },
    {
      "cell_type": "code",
      "metadata": {
        "colab": {
          "base_uri": "https://localhost:8080/"
        },
        "id": "iDK5xRple-d6",
        "outputId": "e95b231f-4751-46f8-8f0f-85885e4fd925"
      },
      "source": [
        "# <list>.sort()를 사용하면 원본 리스트 자체의 순서를 변화 시킨다.\r\n",
        "# soted(<list>)를 사용하면 정렬된 새로운 리스트를 반환 받는다.\r\n",
        "\r\n",
        "# <list>.sort()는 새로운 복사본을 만들지 않기 때문에\r\n",
        "# sorted(<list>)보다 빠르다.\r\n",
        "\r\n",
        "list = [1, 3, 2]\r\n",
        "print(list.sort())\r\n",
        "print(list)\r\n",
        "\r\n",
        "list = [1, 3, 2]\r\n",
        "print(sorted(list))\r\n",
        "print(list)"
      ],
      "execution_count": null,
      "outputs": [
        {
          "output_type": "stream",
          "text": [
            "None\n",
            "[1, 2, 3]\n",
            "[1, 2, 3]\n",
            "[1, 3, 2]\n"
          ],
          "name": "stdout"
        }
      ]
    },
    {
      "cell_type": "code",
      "metadata": {
        "colab": {
          "base_uri": "https://localhost:8080/"
        },
        "id": "hjJ_zo4re6H3",
        "outputId": "2dfc864c-9013-417d-c7ff-ade19340adff"
      },
      "source": [
        "################# 문제 36 #################\r\n",
        "# 1~9까지의 숫자중 하나를 입력하면 그 단의 구구단 결과를 한 줄에 출력하는 프로그램을 작성하세요.\r\n",
        "\r\n",
        "n = int(input())\r\n",
        "\r\n",
        "for i in range(1, 10):\r\n",
        "\r\n",
        "  print(n*i,end = \" \")"
      ],
      "execution_count": null,
      "outputs": [
        {
          "output_type": "stream",
          "text": [
            "5\n",
            "5 10 15 20 25 30 35 40 45 "
          ],
          "name": "stdout"
        }
      ]
    },
    {
      "cell_type": "code",
      "metadata": {
        "colab": {
          "base_uri": "https://localhost:8080/"
        },
        "id": "aGuVSU74jEeC",
        "outputId": "24ddaa8b-540f-409f-803b-b48c2fd7c078"
      },
      "source": [
        "################# 문제 37 #################\r\n",
        "# 학생들이 뽑은 후보들을 입력받으면 뽑힌 학생의 이름과 받은 표 수를 출력하는 프로그램\r\n",
        "\r\n",
        "a = input().split()\r\n",
        "b = list(set(a))\r\n",
        "\r\n",
        "max = 0\r\n",
        "\r\n",
        "for i in range(len(b)):                       # 0, 1, 2\r\n",
        "  if a.count(b[i]) > a.count(b[max]):\r\n",
        "    max = i\r\n",
        "\r\n",
        "    # 채연의 개수 2 > 채연의 개수 2\r\n",
        "    # 은비의 개수 4 > 채연의 개수 2     max = 1\r\n",
        "    # 원영의 개수 2 > 은비의 개수 4     max = 1\r\n",
        "\r\n",
        "print('%s(이)가 총 %d표로 반장이 되었습니다.' %(b[max],a.count(b[max])))\r\n",
        "\r\n",
        "# print(a)['원영', '원영', '은비', '은비', '은비', '은비', '채연', '채연']\r\n",
        "# print(b)['채연', '은비', '원영']\r\n",
        "\r\n",
        "# 원영 원영 은비 은비 은비 은비 채연 채연"
      ],
      "execution_count": null,
      "outputs": [
        {
          "output_type": "stream",
          "text": [
            "원영 원영 은비 은비 은비 은비 채연 채연\n",
            "은비(이)가 총 4표로 반장이 되었습니다.\n"
          ],
          "name": "stdout"
        }
      ]
    },
    {
      "cell_type": "code",
      "metadata": {
        "colab": {
          "base_uri": "https://localhost:8080/"
        },
        "id": "BBpRM6Wa2tDW",
        "outputId": "e8b1f1fb-56cd-4ab6-8b3a-f11eabbdbedc"
      },
      "source": [
        "# count 함수\r\n",
        "# 기본 문법 : 변수.count(찾는 값)\r\n",
        "\r\n",
        "# a = 'ooyyy'\r\n",
        "# a.count('y')\r\n",
        "\r\n",
        "# b = 'ox o x oxoxoxo'\r\n",
        "# b.count('ox')\r\n",
        "\r\n",
        "a = [1, 1, 1, 2, 3]\r\n",
        "a.count(1)"
      ],
      "execution_count": null,
      "outputs": [
        {
          "output_type": "execute_result",
          "data": {
            "text/plain": [
              "3"
            ]
          },
          "metadata": {
            "tags": []
          },
          "execution_count": 232
        }
      ]
    },
    {
      "cell_type": "code",
      "metadata": {
        "id": "b2rg95L-06D-",
        "colab": {
          "base_uri": "https://localhost:8080/"
        },
        "outputId": "c7da4484-75d1-4bad-92ff-54a92306d376"
      },
      "source": [
        "################# 문제 39 #################\r\n",
        "# 문장이 입력되면 모든 q를 e로 바꾸는 프로그램을 작성해 주세요.\r\n",
        "\r\n",
        "txt = input()\r\n",
        "print(txt.replace('q', 'e')) "
      ],
      "execution_count": null,
      "outputs": [
        {
          "output_type": "stream",
          "text": [
            "qyertyqq ereqqrweq    qe\n",
            "eyertyee ereeerwee    ee\n"
          ],
          "name": "stdout"
        }
      ]
    },
    {
      "cell_type": "code",
      "metadata": {
        "colab": {
          "base_uri": "https://localhost:8080/"
        },
        "id": "dZGoxMj6D8Db",
        "outputId": "86c8b28b-5584-41d5-d6a3-39412ed54c4e"
      },
      "source": [
        "################# 문제 41 #################\r\n",
        "# 소수인지 아닌지 판별하는 프로그램 *****\r\n",
        "\r\n",
        "a = int(input())                    # 숫자를 입력 받는다.\r\n",
        "re = 0                              # re 변수 초기화\r\n",
        "\r\n",
        "for i in range(1, a + 1):           # 반복문 (그 수까지)\r\n",
        "  if a % i == 0:                    # 조건 : 입력 받은 수를 반복해서 그 수 앞에 모든 수로 나눈 나머지 값이 0이면\r\n",
        "    re += 1                         # re 값을 하나씩 증가\r\n",
        "\r\n",
        "if re == 2:                         # re 값이 2면\r\n",
        "  print(\"Yes\")                      # Yes\r\n",
        "else:                               # 아니면\r\n",
        "  print(\"No\")                       # No"
      ],
      "execution_count": null,
      "outputs": [
        {
          "output_type": "stream",
          "text": [
            "4\n",
            "No\n"
          ],
          "name": "stdout"
        }
      ]
    },
    {
      "cell_type": "code",
      "metadata": {
        "id": "uYNcpsELQVhQ",
        "colab": {
          "base_uri": "https://localhost:8080/"
        },
        "outputId": "0bc3fc03-b9e3-47a5-a39e-8ccaf2a1a2cd"
      },
      "source": [
        "################# 문제 44 #################\r\n",
        "# 입력한 숫자들의 합\r\n",
        "\r\n",
        "# print(sum(map(int, input())))\r\n",
        "\r\n",
        "n = list(map(int,input()))\r\n",
        "sum = 0\r\n",
        "for i in n:\r\n",
        "  sum += i\r\n",
        "\r\n",
        "print(sum)\r\n",
        "\r\n",
        "sum = 0\r\n",
        "for i in input():\r\n",
        "  sum += int(i)\r\n",
        "\r\n",
        "print(sum)"
      ],
      "execution_count": 142,
      "outputs": [
        {
          "output_type": "stream",
          "text": [
            "1234567891011121314151617181920\n",
            "102\n",
            "123\n",
            "6\n"
          ],
          "name": "stdout"
        }
      ]
    },
    {
      "cell_type": "code",
      "metadata": {
        "colab": {
          "base_uri": "https://localhost:8080/"
        },
        "id": "D-mLqWCOUF8e",
        "outputId": "a56c4555-bdd2-4945-c96d-571566b6fcff"
      },
      "source": [
        "################# 문제 46 #################\r\n",
        "# 1부터 20까지의 (20 포함) 모든 숫자를 일렬로 놓고 모든 자릿수의 총 합을 구하시오.\r\n",
        "\r\n",
        "sum = 0\r\n",
        "\r\n",
        "for i in range(1, 21):\r\n",
        "  print(i, end = '')\r\n",
        "\r\n",
        "  for j in str(i):\r\n",
        "    sum += int(j)\r\n",
        "\r\n",
        "print(sep = '')\r\n",
        "print(sum)"
      ],
      "execution_count": 213,
      "outputs": [
        {
          "output_type": "stream",
          "text": [
            "1234567891011121314151617181920\n",
            "102\n"
          ],
          "name": "stdout"
        }
      ]
    },
    {
      "cell_type": "code",
      "metadata": {
        "colab": {
          "base_uri": "https://localhost:8080/"
        },
        "id": "iD26zEBgWf2T",
        "outputId": "d5e5b826-49c8-4a89-e1e8-9c906bd3b937"
      },
      "source": [
        "################# 문제 46 - 2 #################\r\n",
        "\r\n",
        "sum = 0\r\n",
        "\r\n",
        "for i in str(random.randrange(100,300)):\r\n",
        "  print(i,end = '')\r\n",
        "\r\n",
        "  for j in str(i):\r\n",
        "    sum += int(j)\r\n",
        "\r\n",
        "print(sep = '')\r\n",
        "print(sum)"
      ],
      "execution_count": 207,
      "outputs": [
        {
          "output_type": "stream",
          "text": [
            "8\n"
          ],
          "name": "stdout"
        }
      ]
    },
    {
      "cell_type": "code",
      "metadata": {
        "id": "txstrRk3aVyK"
      },
      "source": [
        ""
      ],
      "execution_count": null,
      "outputs": []
    }
  ]
}